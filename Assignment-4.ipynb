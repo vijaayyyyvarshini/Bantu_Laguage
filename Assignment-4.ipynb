{
 "cells": [
  {
   "cell_type": "markdown",
   "metadata": {},
   "source": [
    "From Scracth Implementation "
   ]
  },
  {
   "cell_type": "code",
   "execution_count": 36,
   "metadata": {},
   "outputs": [],
   "source": [
    "import numpy as np\n",
    "import pandas as pd\n",
    "import os\n",
    "import re\n",
    "import string\n",
    "import random"
   ]
  },
  {
   "cell_type": "code",
   "execution_count": 37,
   "metadata": {},
   "outputs": [],
   "source": [
    "data_cwe = []\n",
    "data_sw = []\n",
    "\n",
    "with open(\"cwe-test.txt\",\"r\") as fileobj:\n",
    "    for line in fileobj:  \n",
    "       for i in line: \n",
    "           data_cwe+=i\n",
    "\n",
    "with open(\"sw-test.txt\",\"r\") as fileobj:\n",
    "    for line in fileobj:  \n",
    "       for i in line: \n",
    "           data_sw+=i"
   ]
  },
  {
   "cell_type": "code",
   "execution_count": 38,
   "metadata": {},
   "outputs": [],
   "source": [
    "def split_list(a_list):\n",
    "    half = len(a_list)//2\n",
    "    return a_list[:half], a_list[half:]"
   ]
  },
  {
   "cell_type": "code",
   "execution_count": 39,
   "metadata": {},
   "outputs": [],
   "source": [
    "train_cwe, test_cwe = split_list(data_cwe)\n",
    "train_sw, test_sw = split_list(data_sw)"
   ]
  },
  {
   "cell_type": "code",
   "execution_count": 40,
   "metadata": {},
   "outputs": [
    {
     "name": "stdout",
     "output_type": "stream",
     "text": [
      "length of training sets 30858 1725691\n",
      "length of test sets 30859 1725692\n"
     ]
    }
   ],
   "source": [
    "print(\"length of training sets\", len(train_cwe), len(train_sw))\n",
    "print(\"length of test sets\", len(test_cwe), len(test_sw))"
   ]
  },
  {
   "cell_type": "code",
   "execution_count": 41,
   "metadata": {},
   "outputs": [],
   "source": [
    "import numpy as np\n",
    "characters_cwe = np.append(np.unique(data_cwe),\"<UNK>\")\n",
    "characters_sw = np.append(np.unique(data_sw),\"<UNK>\")"
   ]
  },
  {
   "cell_type": "code",
   "execution_count": 42,
   "metadata": {},
   "outputs": [
    {
     "name": "stdout",
     "output_type": "stream",
     "text": [
      "33\n",
      "50\n"
     ]
    }
   ],
   "source": [
    "print(len(characters_cwe))\n",
    "print(len(characters_sw))"
   ]
  },
  {
   "cell_type": "code",
   "execution_count": 43,
   "metadata": {},
   "outputs": [],
   "source": [
    "def make_markov_model(data, n_gram):\n",
    "    markov_model = {}\n",
    "    for i in range(len(data)-n_gram-1):\n",
    "        curr_state, next_state = \"\", \"\"\n",
    "        for j in range(n_gram):\n",
    "            curr_state += data[i+j] + \"\"\n",
    "            next_state += data[i+j]+ data[j+n_gram] + \"\"\n",
    "        curr_state = curr_state[:-1]\n",
    "        next_state = next_state[:-1]\n",
    "        if curr_state not in markov_model:\n",
    "            markov_model[curr_state] = {}\n",
    "            markov_model[curr_state][next_state] = 1\n",
    "        else:\n",
    "            if next_state in markov_model[curr_state]:\n",
    "                markov_model[curr_state][next_state] += 1\n",
    "            else:\n",
    "                markov_model[curr_state][next_state] = 1\n",
    "    \n",
    "    # calculating transition probabilities\n",
    "    for curr_state, transition in markov_model.items():\n",
    "        total = sum(transition.values())\n",
    "        for state, count in transition.items():\n",
    "            markov_model[curr_state][state] = count/total\n",
    "        \n",
    "    return markov_model"
   ]
  },
  {
   "cell_type": "code",
   "execution_count": 44,
   "metadata": {},
   "outputs": [
    {
     "name": "stdout",
     "output_type": "stream",
     "text": [
      "number of states in bigram model for CWE =  31\n",
      "number of states in bigram model for SW =  48\n"
     ]
    }
   ],
   "source": [
    "train_bigram_model_cwe = make_markov_model(train_cwe,n_gram=2)\n",
    "print(\"number of states in bigram model for CWE = \", len(train_bigram_model_cwe.keys()))\n",
    "\n",
    "train_bigram_model_sw = make_markov_model(train_sw,n_gram=2)\n",
    "print(\"number of states in bigram model for SW = \", len(train_bigram_model_sw.keys()))"
   ]
  },
  {
   "cell_type": "code",
   "execution_count": 45,
   "metadata": {},
   "outputs": [
    {
     "name": "stdout",
     "output_type": "stream",
     "text": [
      "number of states in trigram model for CWE =  321\n",
      "number of states in trigram model for SW =  1638\n"
     ]
    }
   ],
   "source": [
    "train_trigram_model_cwe = make_markov_model(train_cwe,n_gram=3)\n",
    "print(\"number of states in trigram model for CWE = \", len(train_trigram_model_cwe.keys()))\n",
    "\n",
    "train_trigram_model_sw = make_markov_model(train_sw,n_gram=3)\n",
    "print(\"number of states in trigram model for SW = \", len(train_trigram_model_sw.keys()))"
   ]
  },
  {
   "cell_type": "markdown",
   "metadata": {},
   "source": [
    "Probability function"
   ]
  },
  {
   "cell_type": "code",
   "execution_count": 46,
   "metadata": {},
   "outputs": [],
   "source": [
    "def prob(model, word, phrase):\n",
    "    if phrase in model[word]:\n",
    "        return model[word][phrase]\n",
    "    else:\n",
    "        return 0"
   ]
  },
  {
   "cell_type": "code",
   "execution_count": 47,
   "metadata": {},
   "outputs": [
    {
     "name": "stdout",
     "output_type": "stream",
     "text": [
      "0.21888888888888888\n",
      "0.5784071199067361\n",
      "0\n",
      "0.10305343511450382\n"
     ]
    }
   ],
   "source": [
    "print(prob(train_bigram_model_cwe, 'y', 'yno'))\n",
    "print(prob(train_bigram_model_sw, 'y', 'yia'))\n",
    "print(prob(train_trigram_model_cwe, 'yu', 'ygu'))\n",
    "print(prob(train_trigram_model_sw, 'yu', 'y uil'))"
   ]
  },
  {
   "cell_type": "code",
   "execution_count": 48,
   "metadata": {},
   "outputs": [
    {
     "data": {
      "text/plain": [
       "0.27358490566037735"
      ]
     },
     "execution_count": 48,
     "metadata": {},
     "output_type": "execute_result"
    }
   ],
   "source": [
    "train_bigram_model_cwe['s']['sna']"
   ]
  },
  {
   "cell_type": "markdown",
   "metadata": {},
   "source": [
    "Prediction function"
   ]
  },
  {
   "cell_type": "code",
   "execution_count": 49,
   "metadata": {},
   "outputs": [],
   "source": [
    "def get_prediction(model, phrase):\n",
    "    return max(model[phrase], key=model[phrase].get)"
   ]
  },
  {
   "cell_type": "code",
   "execution_count": 50,
   "metadata": {},
   "outputs": [
    {
     "name": "stdout",
     "output_type": "stream",
     "text": [
      "sna\n",
      "sih\n",
      "ygu' \n",
      "y uim\n"
     ]
    }
   ],
   "source": [
    "print(get_prediction(train_bigram_model_cwe, 's'))\n",
    "print(get_prediction(train_bigram_model_sw, 's'))\n",
    "print(get_prediction(train_trigram_model_cwe, 'yu'))\n",
    "print(get_prediction(train_trigram_model_sw, 'yu'))"
   ]
  },
  {
   "cell_type": "markdown",
   "metadata": {},
   "source": [
    "Testing data"
   ]
  },
  {
   "cell_type": "code",
   "execution_count": 51,
   "metadata": {},
   "outputs": [
    {
     "name": "stdout",
     "output_type": "stream",
     "text": [
      "number of states in bigram model for CWE =  31\n",
      "number of states in bigram model for SW =  48\n"
     ]
    }
   ],
   "source": [
    "test_bigram_model_cwe = make_markov_model(train_cwe,n_gram=2)\n",
    "print(\"number of states in bigram model for CWE = \", len(test_bigram_model_cwe.keys()))\n",
    "\n",
    "test_bigram_model_sw = make_markov_model(train_sw,n_gram=2)\n",
    "print(\"number of states in bigram model for SW = \", len(test_bigram_model_sw.keys()))"
   ]
  },
  {
   "cell_type": "code",
   "execution_count": 52,
   "metadata": {},
   "outputs": [
    {
     "name": "stdout",
     "output_type": "stream",
     "text": [
      "number of states in bigram model for CWE =  321\n",
      "number of states in bigram model for SW =  1638\n"
     ]
    }
   ],
   "source": [
    "test_trigram_model_cwe = make_markov_model(train_cwe,n_gram=3)\n",
    "print(\"number of states in bigram model for CWE = \", len(test_trigram_model_cwe.keys()))\n",
    "\n",
    "test_trigram_model_sw = make_markov_model(train_sw,n_gram=3)\n",
    "print(\"number of states in bigram model for SW = \", len(test_trigram_model_sw.keys()))"
   ]
  },
  {
   "cell_type": "markdown",
   "metadata": {},
   "source": [
    "Cross entropy"
   ]
  },
  {
   "cell_type": "code",
   "execution_count": 78,
   "metadata": {},
   "outputs": [],
   "source": [
    "from math import log2\n",
    "\n",
    "def get_entropy(model):\n",
    "    entropy = 0\n",
    "    for a in model:\n",
    "        entropy = entropy -  (1/(len(model[a]))) * log2(model[a][max(model[a], key=model[a].get)])\n",
    "    return entropy\n",
    "\n"
   ]
  },
  {
   "cell_type": "code",
   "execution_count": 79,
   "metadata": {},
   "outputs": [
    {
     "data": {
      "text/plain": [
       "5.2302390076925365"
      ]
     },
     "execution_count": 79,
     "metadata": {},
     "output_type": "execute_result"
    }
   ],
   "source": [
    "get_entropy(test_bigram_model_cwe)"
   ]
  },
  {
   "cell_type": "code",
   "execution_count": 80,
   "metadata": {},
   "outputs": [
    {
     "data": {
      "text/plain": [
       "2.085781017037768"
      ]
     },
     "execution_count": 80,
     "metadata": {},
     "output_type": "execute_result"
    }
   ],
   "source": [
    "get_entropy(test_bigram_model_sw)"
   ]
  },
  {
   "cell_type": "code",
   "execution_count": 81,
   "metadata": {},
   "outputs": [
    {
     "data": {
      "text/plain": [
       "50.62268218907994"
      ]
     },
     "execution_count": 81,
     "metadata": {},
     "output_type": "execute_result"
    }
   ],
   "source": [
    "get_entropy(test_trigram_model_cwe)"
   ]
  },
  {
   "cell_type": "code",
   "execution_count": 82,
   "metadata": {},
   "outputs": [
    {
     "data": {
      "text/plain": [
       "233.7896078707257"
      ]
     },
     "execution_count": 82,
     "metadata": {},
     "output_type": "execute_result"
    }
   ],
   "source": [
    "get_entropy(test_trigram_model_sw)"
   ]
  }
 ],
 "metadata": {
  "kernelspec": {
   "display_name": "Python 3.10.4 64-bit",
   "language": "python",
   "name": "python3"
  },
  "language_info": {
   "codemirror_mode": {
    "name": "ipython",
    "version": 3
   },
   "file_extension": ".py",
   "mimetype": "text/x-python",
   "name": "python",
   "nbconvert_exporter": "python",
   "pygments_lexer": "ipython3",
   "version": "3.10.4"
  },
  "orig_nbformat": 4,
  "vscode": {
   "interpreter": {
    "hash": "e5c4b6e65ccaabe18f9cd3218992e678d372855fbc859c2eb66bba448f3faf11"
   }
  }
 },
 "nbformat": 4,
 "nbformat_minor": 2
}
