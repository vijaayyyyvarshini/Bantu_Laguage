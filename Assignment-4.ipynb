{
 "cells": [
  {
   "cell_type": "code",
   "execution_count": 35,
   "metadata": {},
   "outputs": [
    {
     "data": {
      "text/html": [
       "<div>\n",
       "<style scoped>\n",
       "    .dataframe tbody tr th:only-of-type {\n",
       "        vertical-align: middle;\n",
       "    }\n",
       "\n",
       "    .dataframe tbody tr th {\n",
       "        vertical-align: top;\n",
       "    }\n",
       "\n",
       "    .dataframe thead th {\n",
       "        text-align: right;\n",
       "    }\n",
       "</style>\n",
       "<table border=\"1\" class=\"dataframe\">\n",
       "  <thead>\n",
       "    <tr style=\"text-align: right;\">\n",
       "      <th></th>\n",
       "      <th>chikale</th>\n",
       "      <th>vinogile</th>\n",
       "      <th>fana</th>\n",
       "      <th>viya</th>\n",
       "      <th>wanhu</th>\n",
       "      <th>wochikala</th>\n",
       "      <th>habung'huke</th>\n",
       "      <th>imisi,</th>\n",
       "      <th>si</th>\n",
       "      <th>kwa</th>\n",
       "      <th>...</th>\n",
       "      <th>yesu.685</th>\n",
       "      <th>kamwidika,.38</th>\n",
       "      <th>mama, sekeunilongele cha kutenda. kalonga, nowalongela</th>\n",
       "      <th>vino,.27</th>\n",
       "      <th>mgane.7</th>\n",
       "      <th>ino.86</th>\n",
       "      <th>kalava.8</th>\n",
       "      <th>nyingi.18</th>\n",
       "      <th>kufosa.67</th>\n",
       "      <th>wose..21</th>\n",
       "    </tr>\n",
       "  </thead>\n",
       "  <tbody>\n",
       "  </tbody>\n",
       "</table>\n",
       "<p>0 rows × 54699 columns</p>\n",
       "</div>"
      ],
      "text/plain": [
       "Empty DataFrame\n",
       "Columns: [chikale, vinogile, fana, viya, wanhu, wochikala, habung'huke, imisi,, si, kwa, umelo, na, ung'waji, na.1, unyolodo, na.2, uwashelati, na.3, ndwagi, hebu, migongo., one, muhapula, chinhu, chochose, kwa.1, zina, jangu, nizamtendelani., yesu, kamulongela, petili,, bweleza zele jako muna iyala. ufalume, wa, kuulanga, ulinga, vino., niye, mulala, mulangulizi,, nokwandikila, weye, gayo, mulondwa, wangu, yonikulonda, muna, ikweli., nomulongelani, ukweli,, munhu, yoyose, yohauhokela, ufalume, wa.1, mulungu, fana.1, mwana, mdoododo,, hezakwingila, muna.1, ufalume.1, uwo, ng'o!\", iyo, ni, mfalume, wa.2, siku, zose, na.4, hadanganika, na.5, hawoneka, na.6, yeli, mulungu.1, yaidumwe., one.1, munhu.1, yoyose.1, yahawa, na.7, nzala,, kolondeka, yaje, ukaye, yake,, muladi, vondamuiting'hane, sekeyatagusigwe., lelo, kwa.2, mbuli, ziya, zimwandike, kuwa., maabaho, msenga, wa.3, ...]\n",
       "Index: []\n",
       "\n",
       "[0 rows x 54699 columns]"
      ]
     },
     "execution_count": 35,
     "metadata": {},
     "output_type": "execute_result"
    }
   ],
   "source": [
    "#Task 2. Data Loading\n",
    "import pandas as pd\n",
    "pub_test_data = pd.read_csv('cwe-train.txt', sep=' ')\n",
    "\n",
    "pub_test_data.head(2)"
   ]
  },
  {
   "cell_type": "code",
   "execution_count": 36,
   "metadata": {},
   "outputs": [
    {
     "data": {
      "text/html": [
       "<div>\n",
       "<style scoped>\n",
       "    .dataframe tbody tr th:only-of-type {\n",
       "        vertical-align: middle;\n",
       "    }\n",
       "\n",
       "    .dataframe tbody tr th {\n",
       "        vertical-align: top;\n",
       "    }\n",
       "\n",
       "    .dataframe thead th {\n",
       "        text-align: right;\n",
       "    }\n",
       "</style>\n",
       "<table border=\"1\" class=\"dataframe\">\n",
       "  <thead>\n",
       "    <tr style=\"text-align: right;\">\n",
       "      <th></th>\n",
       "      <th>chikale</th>\n",
       "      <th>vinogile</th>\n",
       "      <th>fana</th>\n",
       "      <th>viya</th>\n",
       "      <th>wanhu</th>\n",
       "      <th>wochikala</th>\n",
       "      <th>habung'huke</th>\n",
       "      <th>imisi,</th>\n",
       "      <th>si</th>\n",
       "      <th>kwa</th>\n",
       "      <th>...</th>\n",
       "      <th>yesu.685</th>\n",
       "      <th>kamwidika,.38</th>\n",
       "      <th>mama, sekeunilongele cha kutenda. kalonga, nowalongela</th>\n",
       "      <th>vino,.27</th>\n",
       "      <th>mgane.7</th>\n",
       "      <th>ino.86</th>\n",
       "      <th>kalava.8</th>\n",
       "      <th>nyingi.18</th>\n",
       "      <th>kufosa.67</th>\n",
       "      <th>wose..21</th>\n",
       "    </tr>\n",
       "  </thead>\n",
       "  <tbody>\n",
       "    <tr>\n",
       "      <th>count</th>\n",
       "      <td>0</td>\n",
       "      <td>0</td>\n",
       "      <td>0</td>\n",
       "      <td>0</td>\n",
       "      <td>0</td>\n",
       "      <td>0</td>\n",
       "      <td>0</td>\n",
       "      <td>0</td>\n",
       "      <td>0</td>\n",
       "      <td>0</td>\n",
       "      <td>...</td>\n",
       "      <td>0</td>\n",
       "      <td>0</td>\n",
       "      <td>0</td>\n",
       "      <td>0</td>\n",
       "      <td>0</td>\n",
       "      <td>0</td>\n",
       "      <td>0</td>\n",
       "      <td>0</td>\n",
       "      <td>0</td>\n",
       "      <td>0</td>\n",
       "    </tr>\n",
       "    <tr>\n",
       "      <th>unique</th>\n",
       "      <td>0</td>\n",
       "      <td>0</td>\n",
       "      <td>0</td>\n",
       "      <td>0</td>\n",
       "      <td>0</td>\n",
       "      <td>0</td>\n",
       "      <td>0</td>\n",
       "      <td>0</td>\n",
       "      <td>0</td>\n",
       "      <td>0</td>\n",
       "      <td>...</td>\n",
       "      <td>0</td>\n",
       "      <td>0</td>\n",
       "      <td>0</td>\n",
       "      <td>0</td>\n",
       "      <td>0</td>\n",
       "      <td>0</td>\n",
       "      <td>0</td>\n",
       "      <td>0</td>\n",
       "      <td>0</td>\n",
       "      <td>0</td>\n",
       "    </tr>\n",
       "    <tr>\n",
       "      <th>top</th>\n",
       "      <td>NaN</td>\n",
       "      <td>NaN</td>\n",
       "      <td>NaN</td>\n",
       "      <td>NaN</td>\n",
       "      <td>NaN</td>\n",
       "      <td>NaN</td>\n",
       "      <td>NaN</td>\n",
       "      <td>NaN</td>\n",
       "      <td>NaN</td>\n",
       "      <td>NaN</td>\n",
       "      <td>...</td>\n",
       "      <td>NaN</td>\n",
       "      <td>NaN</td>\n",
       "      <td>NaN</td>\n",
       "      <td>NaN</td>\n",
       "      <td>NaN</td>\n",
       "      <td>NaN</td>\n",
       "      <td>NaN</td>\n",
       "      <td>NaN</td>\n",
       "      <td>NaN</td>\n",
       "      <td>NaN</td>\n",
       "    </tr>\n",
       "    <tr>\n",
       "      <th>freq</th>\n",
       "      <td>NaN</td>\n",
       "      <td>NaN</td>\n",
       "      <td>NaN</td>\n",
       "      <td>NaN</td>\n",
       "      <td>NaN</td>\n",
       "      <td>NaN</td>\n",
       "      <td>NaN</td>\n",
       "      <td>NaN</td>\n",
       "      <td>NaN</td>\n",
       "      <td>NaN</td>\n",
       "      <td>...</td>\n",
       "      <td>NaN</td>\n",
       "      <td>NaN</td>\n",
       "      <td>NaN</td>\n",
       "      <td>NaN</td>\n",
       "      <td>NaN</td>\n",
       "      <td>NaN</td>\n",
       "      <td>NaN</td>\n",
       "      <td>NaN</td>\n",
       "      <td>NaN</td>\n",
       "      <td>NaN</td>\n",
       "    </tr>\n",
       "  </tbody>\n",
       "</table>\n",
       "<p>4 rows × 54699 columns</p>\n",
       "</div>"
      ],
      "text/plain": [
       "       chikale vinogile fana viya wanhu wochikala habung'huke imisi,   si  \\\n",
       "count        0        0    0    0     0         0           0      0    0   \n",
       "unique       0        0    0    0     0         0           0      0    0   \n",
       "top        NaN      NaN  NaN  NaN   NaN       NaN         NaN    NaN  NaN   \n",
       "freq       NaN      NaN  NaN  NaN   NaN       NaN         NaN    NaN  NaN   \n",
       "\n",
       "        kwa  ... yesu.685 kamwidika,.38  \\\n",
       "count     0  ...        0             0   \n",
       "unique    0  ...        0             0   \n",
       "top     NaN  ...      NaN           NaN   \n",
       "freq    NaN  ...      NaN           NaN   \n",
       "\n",
       "       mama, sekeunilongele cha kutenda. kalonga, nowalongela vino,.27  \\\n",
       "count                                                   0            0   \n",
       "unique                                                  0            0   \n",
       "top                                                   NaN          NaN   \n",
       "freq                                                  NaN          NaN   \n",
       "\n",
       "       mgane.7 ino.86 kalava.8 nyingi.18 kufosa.67 wose..21  \n",
       "count        0      0        0         0         0        0  \n",
       "unique       0      0        0         0         0        0  \n",
       "top        NaN    NaN      NaN       NaN       NaN      NaN  \n",
       "freq       NaN    NaN      NaN       NaN       NaN      NaN  \n",
       "\n",
       "[4 rows x 54699 columns]"
      ]
     },
     "execution_count": 36,
     "metadata": {},
     "output_type": "execute_result"
    }
   ],
   "source": [
    "pub_test_data.describe()"
   ]
  },
  {
   "cell_type": "code",
   "execution_count": 34,
   "metadata": {},
   "outputs": [
    {
     "ename": "IndexError",
     "evalue": "list index out of range",
     "output_type": "error",
     "traceback": [
      "\u001b[1;31m---------------------------------------------------------------------------\u001b[0m",
      "\u001b[1;31mIndexError\u001b[0m                                Traceback (most recent call last)",
      "Cell \u001b[1;32mIn [34], line 7\u001b[0m\n\u001b[0;32m      5\u001b[0m line\u001b[39m=\u001b[39mline\u001b[39m.\u001b[39mstrip(\u001b[39m\"\u001b[39m\u001b[39m\\n\u001b[39;00m\u001b[39m\"\u001b[39m)\u001b[39m.\u001b[39msplit(\u001b[39m'\u001b[39m\u001b[39m\\t\u001b[39;00m\u001b[39m'\u001b[39m)\n\u001b[0;32m      6\u001b[0m words\u001b[39m.\u001b[39mappend(line[\u001b[39m0\u001b[39m]\u001b[39m.\u001b[39mlower())\n\u001b[1;32m----> 7\u001b[0m segmented\u001b[39m=\u001b[39mline[\u001b[39m1\u001b[39;49m]\u001b[39m.\u001b[39msplit(\u001b[39m'\u001b[39m\u001b[39m-\u001b[39m\u001b[39m'\u001b[39m)\n\u001b[0;32m      8\u001b[0m segmented_words\u001b[39m.\u001b[39mappend([segment\u001b[39m.\u001b[39mlower() \u001b[39mfor\u001b[39;00m segment \u001b[39min\u001b[39;00m segmented])\n",
      "\u001b[1;31mIndexError\u001b[0m: list index out of range"
     ]
    }
   ],
   "source": [
    "with open(\"cwe-train.txt\", encoding='utf-8') as input:\n",
    "    words=[]\n",
    "    segmented_words=[]\n",
    "    for line in input:\n",
    "        line=line.strip(\"\\n\").split('\\t')\n",
    "        words.append(line[0].lower())\n",
    "        segmented=line[1].split('-')\n",
    "        segmented_words.append([segment.lower() for segment in segmented])\n",
    "#print(len(words))\n",
    "#print(len(segmented_words))"
   ]
  },
  {
   "cell_type": "code",
   "execution_count": 33,
   "metadata": {},
   "outputs": [
    {
     "ename": "TypeError",
     "evalue": "Population must be a sequence.  For dicts or sets, use sorted(d).",
     "output_type": "error",
     "traceback": [
      "\u001b[1;31m---------------------------------------------------------------------------\u001b[0m",
      "\u001b[1;31mTypeError\u001b[0m                                 Traceback (most recent call last)",
      "Cell \u001b[1;32mIn [33], line 3\u001b[0m\n\u001b[0;32m      1\u001b[0m \u001b[39mimport\u001b[39;00m \u001b[39mrandom\u001b[39;00m\n\u001b[0;32m      2\u001b[0m character_set \u001b[39m=\u001b[39m \u001b[39mlist\u001b[39m({x \u001b[39mfor\u001b[39;00m y \u001b[39min\u001b[39;00m pub_test_data \u001b[39mfor\u001b[39;00m x \u001b[39min\u001b[39;00m y})\n\u001b[1;32m----> 3\u001b[0m training_data \u001b[39m=\u001b[39m random\u001b[39m.\u001b[39;49msample(pub_test_data, \u001b[39m650\u001b[39;49m)\n",
      "File \u001b[1;32mc:\\Users\\brije\\AppData\\Local\\Programs\\Python\\Python310\\lib\\random.py:466\u001b[0m, in \u001b[0;36mRandom.sample\u001b[1;34m(self, population, k, counts)\u001b[0m\n\u001b[0;32m    464\u001b[0m         population \u001b[39m=\u001b[39m \u001b[39mtuple\u001b[39m(population)\n\u001b[0;32m    465\u001b[0m     \u001b[39melse\u001b[39;00m:\n\u001b[1;32m--> 466\u001b[0m         \u001b[39mraise\u001b[39;00m \u001b[39mTypeError\u001b[39;00m(\u001b[39m\"\u001b[39m\u001b[39mPopulation must be a sequence.  For dicts or sets, use sorted(d).\u001b[39m\u001b[39m\"\u001b[39m)\n\u001b[0;32m    467\u001b[0m n \u001b[39m=\u001b[39m \u001b[39mlen\u001b[39m(population)\n\u001b[0;32m    468\u001b[0m \u001b[39mif\u001b[39;00m counts \u001b[39mis\u001b[39;00m \u001b[39mnot\u001b[39;00m \u001b[39mNone\u001b[39;00m:\n",
      "\u001b[1;31mTypeError\u001b[0m: Population must be a sequence.  For dicts or sets, use sorted(d)."
     ]
    }
   ],
   "source": [
    "import random\n",
    "character_set = list({x for y in pub_test_data for x in y})\n",
    "training_data = random.sample(pub_test_data, 650)"
   ]
  },
  {
   "cell_type": "code",
   "execution_count": null,
   "metadata": {},
   "outputs": [],
   "source": [
    "# get initial probabilities\n",
    "# In this case, initial probablities only makes sense on the basis of initial character\n",
    "# i.e., the initial tag will, by definition, always be 'B'\n",
    "initialP={}\n",
    "initial_characters=[segment[0] for segment in training_data]\n",
    "for character in character_set:\n",
    "    initialP[character] = (initial_characters.count(character)+1)/(len(training_data)+len(character_set))\n",
    "#print(initialP)\n",
    "#sum(initialP.values())"
   ]
  },
  {
   "cell_type": "code",
   "execution_count": 25,
   "metadata": {},
   "outputs": [
    {
     "name": "stdout",
     "output_type": "stream",
     "text": [
      "1\n",
      "1\n"
     ]
    }
   ],
   "source": [
    "print(len(all_words))\n",
    "print(len(all_segemented_words))"
   ]
  },
  {
   "cell_type": "code",
   "execution_count": 30,
   "metadata": {},
   "outputs": [
    {
     "ename": "IndexError",
     "evalue": "list index out of range",
     "output_type": "error",
     "traceback": [
      "\u001b[1;31m---------------------------------------------------------------------------\u001b[0m",
      "\u001b[1;31mIndexError\u001b[0m                                Traceback (most recent call last)",
      "Cell \u001b[1;32mIn [30], line 7\u001b[0m\n\u001b[0;32m      5\u001b[0m pieces \u001b[39m=\u001b[39m line\u001b[39m.\u001b[39mrstrip(\u001b[39m\"\u001b[39m\u001b[39m\\n\u001b[39;00m\u001b[39m\"\u001b[39m)\u001b[39m.\u001b[39msplit(\u001b[39m\"\u001b[39m\u001b[39m\\t\u001b[39;00m\u001b[39m\"\u001b[39m)\n\u001b[0;32m      6\u001b[0m all_words\u001b[39m.\u001b[39mappend(pieces[\u001b[39m0\u001b[39m])\n\u001b[1;32m----> 7\u001b[0m all_segemented_words\u001b[39m.\u001b[39mappend(pieces[\u001b[39m1\u001b[39;49m])\n",
      "\u001b[1;31mIndexError\u001b[0m: list index out of range"
     ]
    }
   ],
   "source": [
    "data = open('cwe-train.txt', 'r')\n",
    "all_words = []\n",
    "all_segemented_words = []\n",
    "for line in data:\n",
    "    pieces = line.rstrip(\"\\n\").split(\"\\t\")\n",
    "    all_words.append(pieces[0])\n",
    "    all_segemented_words.append(pieces[1])"
   ]
  },
  {
   "cell_type": "code",
   "execution_count": 27,
   "metadata": {},
   "outputs": [],
   "source": [
    "import numpy as np\n",
    "import matplotlib.pyplot as plt\n",
    " \n",
    "'''\n",
    "Hypothesis Function - Sigmoid function\n",
    "'''\n",
    "def sig(z):\n",
    "    return 1.0 / (1.0 + np.exp(-z))\n",
    " \n",
    "'''\n",
    "yHypo represents the predicted value / probability value calculated as output of hypothesis / sigmoid function\n",
    " \n",
    "y represents the actual label\n",
    "'''\n",
    "def cross_entropy_loss(yHypo, y):\n",
    "    if y == 1:\n",
    "      return -np.log(yHypo)\n",
    "    else:\n",
    "      return -np.log(1 - yHypo)"
   ]
  },
  {
   "cell_type": "code",
   "execution_count": 28,
   "metadata": {},
   "outputs": [
    {
     "data": {
      "image/png": "[encoded data removed]",
      "text/plain": [
       "<Figure size 800x600 with 1 Axes>"
      ]
     },
     "metadata": {},
     "output_type": "display_data"
    }
   ],
   "source": [
    "#\n",
    "# Calculate sample values for Z\n",
    "#\n",
    "z = np.arange(-10, 10, 0.1)\n",
    "#\n",
    "# Calculate the hypothesis value / probability value\n",
    "#\n",
    "h_z = sig(z)\n",
    "#\n",
    "# Value of cost function when y = 1\n",
    "# -log(h(x))\n",
    "#\n",
    "cost_1 = cross_entropy_loss(h_z, 1)\n",
    "#\n",
    "# Value of cost function when y = 0\n",
    "# -log(1 - h(x))\n",
    "#\n",
    "cost_0 = cross_entropy_loss(h_z, 0)\n",
    "#\n",
    "# Plot the cross entropy loss\n",
    "#\n",
    "fig, ax = plt.subplots(figsize=(8,6))\n",
    "plt.plot(h_z, cost_1, label='J(w) if y=1')\n",
    "plt.plot(h_z, cost_0, label='J(w) if y=0')\n",
    "plt.xlabel('$\\phi$(z)')\n",
    "plt.ylabel('J(w)')\n",
    "plt.legend(loc='best')\n",
    "plt.tight_layout()\n",
    "plt.show()"
   ]
  }
 ],
 "metadata": {
  "kernelspec": {
   "display_name": "Python 3.10.4 64-bit",
   "language": "python",
   "name": "python3"
  },
  "language_info": {
   "codemirror_mode": {
    "name": "ipython",
    "version": 3
   },
   "file_extension": ".py",
   "mimetype": "text/x-python",
   "name": "python",
   "nbconvert_exporter": "python",
   "pygments_lexer": "ipython3",
   "version": "3.10.4"
  },
  "orig_nbformat": 4,
  "vscode": {
   "interpreter": {
    "hash": "e5c4b6e65ccaabe18f9cd3218992e678d372855fbc859c2eb66bba448f3faf11"
   }
  }
 },
 "nbformat": 4,
 "nbformat_minor": 2
}
