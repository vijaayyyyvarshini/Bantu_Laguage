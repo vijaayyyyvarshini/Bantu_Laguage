{
 "cells": [
  {
   "cell_type": "markdown",
   "metadata": {},
   "source": [
    "From Scracth Implementation "
   ]
  },
  {
   "cell_type": "code",
   "execution_count": 1,
   "metadata": {},
   "outputs": [],
   "source": [
    "import numpy as np\n",
    "import pandas as pd\n",
    "import os\n",
    "import re\n",
    "import string\n",
    "import random"
   ]
  },
  {
   "cell_type": "code",
   "execution_count": 2,
   "metadata": {},
   "outputs": [],
   "source": [
    "data = []\n",
    "\n",
    "with open(\"sw-train.txt\",\"r\") as fileobj:\n",
    "    for line in fileobj:  \n",
    "       for i in line: \n",
    "           data+=i"
   ]
  },
  {
   "cell_type": "code",
   "execution_count": 5,
   "metadata": {},
   "outputs": [],
   "source": [
    "import numpy as np\n",
    "characters = np.append(np.unique(data),\"<UNK>\")"
   ]
  },
  {
   "cell_type": "code",
   "execution_count": 3,
   "metadata": {},
   "outputs": [
    {
     "name": "stdout",
     "output_type": "stream",
     "text": [
      "84915\n",
      "15298\n"
     ]
    }
   ],
   "source": [
    "print(len(data))\n",
    "print(len(characters))"
   ]
  },
  {
   "cell_type": "code",
   "execution_count": 6,
   "metadata": {},
   "outputs": [],
   "source": [
    "def make_markov_model(data, n_gram):\n",
    "    markov_model = {}\n",
    "    for i in range(len(data)-n_gram-1):\n",
    "        curr_state, next_state = \"\", \"\"\n",
    "        for j in range(n_gram):\n",
    "            curr_state += data[i+j] + \"\"\n",
    "            next_state += data[i+j]+ data[j+n_gram] + \"\"\n",
    "        curr_state = curr_state[:-1]\n",
    "        next_state = next_state[:-1]\n",
    "        if curr_state not in markov_model:\n",
    "            markov_model[curr_state] = {}\n",
    "            markov_model[curr_state][next_state] = 1\n",
    "        else:\n",
    "            if next_state in markov_model[curr_state]:\n",
    "                markov_model[curr_state][next_state] += 1\n",
    "            else:\n",
    "                markov_model[curr_state][next_state] = 1\n",
    "    \n",
    "    # calculating transition probabilities\n",
    "    for curr_state, transition in markov_model.items():\n",
    "        total = sum(transition.values())\n",
    "        for state, count in transition.items():\n",
    "            markov_model[curr_state][state] = count/total\n",
    "        \n",
    "    return markov_model"
   ]
  },
  {
   "cell_type": "code",
   "execution_count": 7,
   "metadata": {},
   "outputs": [
    {
     "name": "stdout",
     "output_type": "stream",
     "text": [
      "number of states in bigram model =  48\n"
     ]
    }
   ],
   "source": [
    "bigram_markov_model = make_markov_model(data,n_gram=2)\n",
    "print(\"number of states in bigram model = \", len(bigram_markov_model.keys()))"
   ]
  },
  {
   "cell_type": "code",
   "execution_count": 12,
   "metadata": {},
   "outputs": [
    {
     "name": "stdout",
     "output_type": "stream",
     "text": [
      "All possible transitions from 'y' state: \n",
      "\n",
      "{'yia': 0.5783880552013517, 'yio': 0.162694489286993, 'yii': 0.03611454845821896, 'yie': 0.14610016394575343, 'yis': 0.0021281540713195433, 'yi ': 0.02341346365240988, 'yib': 0.00037939936808648294, 'yiu': 0.03005169630462503, 'yi.': 0.002623132054849591, 'yiw': 0.0066495392558998485, 'yip': 0.00046105817247595775, 'yid': 0.000570355341428024, 'yi,': 0.0017462421246364614, 'yit': 0.0005276415052858372, 'yi!': 0.000541460687567133, 'yi)': 0.0004447264115980628, \"yi'\": 0.00023743867737862674, 'yic': 0.0004937216942317476, 'yi?': 0.00046985219756405505, 'yim': 0.0009120660305655187, 'yih': 0.0003668364751034868, 'yir': 0.0007663364719627636, 'yin': 0.0009007594268808221, 'yil': 0.0011419669721543478, 'yix': 3.266352175578992e-05, 'yiy': 0.000424625782825269, 'yik': 0.00026884590983611707, 'yi\"': 0.00021985062720243217, 'yiz': 0.0001306540870231597, 'yi:': 9.422169737247093e-05, 'yif': 0.0001206037726367628, 'yi-': 0.00021859433790413256, 'yig': 0.00016708647667384844, 'yiv': 7.412106859967713e-05, 'yi(': 4.271383614218682e-05, 'yi;': 2.8894653860891085e-05, 'yi1': 3.7688678948988373e-06, 'yij': 1.1306603684696512e-05, 'yi2': 8.794025088097287e-06, 'yi7': 1.2562892982996124e-06, 'yiq': 1.3819182281295737e-05, 'yi8': 2.5125785965992247e-06, 'yi5': 5.0251571931984495e-06, 'yi3': 6.281446491498062e-06, 'yi4': 1.2562892982996124e-06}\n"
     ]
    }
   ],
   "source": [
    "print(\"All possible transitions from 'y' state: \\n\")\n",
    "print(bigram_markov_model['y'])"
   ]
  },
  {
   "cell_type": "code",
   "execution_count": 8,
   "metadata": {},
   "outputs": [
    {
     "name": "stdout",
     "output_type": "stream",
     "text": [
      "number of states in bigram model =  2185\n"
     ]
    }
   ],
   "source": [
    "trigram_markov_model = make_markov_model(data,n_gram=3)\n",
    "print(\"number of states in bigram model = \", len(trigram_markov_model.keys()))"
   ]
  },
  {
   "cell_type": "code",
   "execution_count": 13,
   "metadata": {},
   "outputs": [
    {
     "name": "stdout",
     "output_type": "stream",
     "text": [
      "All possible transitions from 'yu' state: \n",
      "\n",
      "{'ysuhp': 0.051711884954642365, 'ysuhm': 0.37339576104677896, 'ysuhn': 0.023075958362944692, 'ysuh ': 0.19974081351114084, 'ysuhs': 0.024831737803603527, 'ysuhk': 0.07370093223527445, 'ysuhl': 0.122611930939342, 'ysuho': 0.03402867773086409, 'ysuh,': 0.005476359683959701, 'ysuhw': 0.00037623845156975044, 'ysuhg': 0.003386146064127754, 'ysuhe': 0.0008360854479327787, 'ysuh.': 0.00907152711007065, 'ysuht': 0.02955562058442373, 'ysuhz': 0.008151833117344593, 'ysuhd': 0.00982400401321015, 'ysuhi': 0.0011287153547092513, 'ysuhb': 0.004055014422473977, 'ysuha': 0.007357551941808453, 'ysuh?': 0.003218928974541198, 'ysuhj': 4.180427239663894e-05, 'ysuh;': 0.0003344341791731115, 'ysuhu': 0.003302537519334476, 'ysuhr': 0.006396053676685757, 'ysuh-': 0.00016721708958655575, 'ysuhh': 0.0005852598135529451, 'ysuhf': 0.0010451068099159733, 'ysuhc': 0.00037623845156975044, 'ysuh!': 0.001212323899502529, 'ysuhv': 0.00012541281718991682, \"ysuh'\": 4.180427239663894e-05, 'ysuhy': 0.00012541281718991682, 'ysuh\"': 0.00012541281718991682, 'ysuh0': 8.360854479327788e-05, 'ysuh)': 0.0003344341791731115, 'ysuh:': 0.00016721708958655575}\n"
     ]
    }
   ],
   "source": [
    "print(\"All possible transitions from 'yu' state: \\n\")\n",
    "print(trigram_markov_model['yu'])"
   ]
  },
  {
   "cell_type": "code",
   "execution_count": null,
   "metadata": {},
   "outputs": [],
   "source": [
    "perplexity = 1/(pow(sentprob, 1.0/sent_len)"
   ]
  },
  {
   "cell_type": "code",
   "execution_count": null,
   "metadata": {},
   "outputs": [],
   "source": [
    "# calculate cross entropy\n",
    "def cross_entropy(p, q):\n",
    "\treturn -sum([p[i]*log2(q[i]) for i in range(len(p))])"
   ]
  },
  {
   "cell_type": "code",
   "execution_count": 9,
   "metadata": {},
   "outputs": [],
   "source": [
    "import numpy as np\n",
    "import matplotlib.pyplot as plt\n",
    " \n",
    "'''\n",
    "Hypothesis Function - Sigmoid function\n",
    "'''\n",
    "def sig(z):\n",
    "    return 1.0 / (1.0 + np.exp(-z))\n",
    " \n",
    "'''\n",
    "yHypo represents the predicted value / probability value calculated as output of hypothesis / sigmoid function\n",
    " \n",
    "y represents the actual label\n",
    "'''\n",
    "def cross_entropy_loss(yHypo, y):\n",
    "    if y == 1:\n",
    "      return -np.log(yHypo)\n",
    "    else:\n",
    "      return -np.log(1 - yHypo)"
   ]
  },
  {
   "cell_type": "code",
   "execution_count": null,
   "metadata": {},
   "outputs": [],
   "source": [
    "#\n",
    "# Calculate sample values for Z\n",
    "#\n",
    "z = np.arange(-10, 10, 0.1)\n",
    "#\n",
    "# Calculate the hypothesis value / probability value\n",
    "#\n",
    "h_z = sig(z)\n",
    "#\n",
    "# Value of cost function when y = 1\n",
    "# -log(h(x))\n",
    "#\n",
    "cost_1 = cross_entropy_loss(h_z, 1)\n",
    "#\n",
    "# Value of cost function when y = 0\n",
    "# -log(1 - h(x))\n",
    "#\n",
    "cost_0 = cross_entropy_loss(h_z, 0)\n",
    "#\n",
    "# Plot the cross entropy loss\n",
    "#\n",
    "fig, ax = plt.subplots(figsize=(8,6))\n",
    "plt.plot(h_z, cost_1, label='J(w) if y=1')\n",
    "plt.plot(h_z, cost_0, label='J(w) if y=0')\n",
    "plt.xlabel('$\\phi$(z)')\n",
    "plt.ylabel('J(w)')\n",
    "plt.legend(loc='best')\n",
    "plt.tight_layout()\n",
    "plt.show()"
   ]
  }
 ],
 "metadata": {
  "kernelspec": {
   "display_name": "Python 3.10.4 64-bit",
   "language": "python",
   "name": "python3"
  },
  "language_info": {
   "codemirror_mode": {
    "name": "ipython",
    "version": 3
   },
   "file_extension": ".py",
   "mimetype": "text/x-python",
   "name": "python",
   "nbconvert_exporter": "python",
   "pygments_lexer": "ipython3",
   "version": "3.10.4"
  },
  "orig_nbformat": 4,
  "vscode": {
   "interpreter": {
    "hash": "e5c4b6e65ccaabe18f9cd3218992e678d372855fbc859c2eb66bba448f3faf11"
   }
  }
 },
 "nbformat": 4,
 "nbformat_minor": 2
}
